{
 "cells": [
  {
   "cell_type": "code",
   "execution_count": 1,
   "metadata": {
    "collapsed": true
   },
   "outputs": [],
   "source": [
    "import sys\n",
    "import numpy as np\n",
    "filename=\"sp500_data_id/sp500_data.d\"\n",
    "f=open(filename,\"r\")\n",
    "sp500_data=[]\n",
    "for line in f:\n",
    "    element=line.split(\" \")\n",
    "    for i in range(len(element)):\n",
    "        element[i]=float(element[i])\n",
    "    sp500_data.append(element)\n",
    "f.close()"
   ]
  },
  {
   "cell_type": "code",
   "execution_count": 2,
   "metadata": {
    "collapsed": false
   },
   "outputs": [
    {
     "name": "stdout",
     "output_type": "stream",
     "text": [
      "Start using the sklearn Kmeans....\n",
      "K-means has done...\n"
     ]
    }
   ],
   "source": [
    "from sklearn.cluster import KMeans \n",
    "K=20\n",
    "print \"Start using the sklearn Kmeans....\"\n",
    "result = KMeans(n_clusters=K).fit(sp500_data)\n",
    "print \"K-means has done...\""
   ]
  },
  {
   "cell_type": "code",
   "execution_count": 3,
   "metadata": {
    "collapsed": false
   },
   "outputs": [],
   "source": [
    "labels=result.predict(sp500_data)"
   ]
  },
  {
   "cell_type": "code",
   "execution_count": 4,
   "metadata": {
    "collapsed": true
   },
   "outputs": [],
   "source": [
    "result={}\n",
    "for i in range(K):\n",
    "    result[i]=[]\n",
    "index=0\n",
    "for i in range(len(labels)):\n",
    "    cluster=labels[i]\n",
    "    result[cluster].append(index)\n",
    "    index+=1"
   ]
  },
  {
   "cell_type": "code",
   "execution_count": 5,
   "metadata": {
    "collapsed": false
   },
   "outputs": [
    {
     "name": "stdout",
     "output_type": "stream",
     "text": [
      "The element in the cluster  0\n",
      "the length of the cluster is  146\n",
      "[6, 13, 14, 18, 22, 23, 34, 35, 37, 40, 45, 46, 54, 55, 56, 58, 61, 74, 75, 78, 82, 83, 85, 91, 94, 98, 100, 109, 110, 113, 115, 122, 124, 132, 133, 134, 140, 150, 152, 157, 165, 172, 173, 174, 177, 184, 185, 187, 207, 209, 210, 211, 212, 214, 215, 220, 222, 225, 227, 229, 230, 233, 235, 236, 240, 241, 242, 249, 251, 256, 258, 259, 261, 265, 279, 282, 285, 290, 291, 292, 296, 299, 304, 306, 308, 310, 311, 314, 316, 317, 326, 332, 335, 336, 339, 346, 354, 355, 356, 365, 371, 372, 375, 378, 381, 383, 384, 387, 389, 393, 394, 395, 398, 399, 401, 405, 409, 416, 419, 420, 421, 424, 426, 428, 429, 430, 436, 438, 439, 447, 453, 455, 457, 466, 467, 469, 472, 473, 478, 483, 485, 489, 493, 494, 497, 500]\n",
      "The element in the cluster  1\n",
      "the length of the cluster is  22\n",
      "[5, 28, 33, 106, 125, 135, 145, 151, 175, 176, 193, 198, 231, 243, 303, 328, 357, 360, 432, 450, 456, 471]\n",
      "The element in the cluster  2\n",
      "the length of the cluster is  1\n",
      "[492]\n",
      "The element in the cluster  3\n",
      "the length of the cluster is  223\n",
      "[0, 1, 2, 3, 7, 9, 10, 15, 17, 19, 20, 21, 24, 25, 27, 30, 32, 36, 38, 39, 41, 43, 44, 47, 48, 50, 51, 57, 59, 60, 62, 67, 68, 69, 70, 71, 72, 73, 76, 80, 81, 88, 89, 90, 92, 93, 95, 96, 97, 99, 101, 102, 103, 104, 111, 112, 119, 120, 121, 126, 127, 128, 130, 131, 137, 138, 139, 142, 143, 144, 146, 147, 148, 149, 153, 159, 160, 161, 162, 163, 164, 167, 168, 170, 171, 179, 182, 183, 189, 190, 192, 194, 195, 196, 199, 202, 203, 205, 206, 213, 218, 219, 221, 224, 232, 234, 237, 238, 239, 244, 246, 247, 248, 250, 252, 253, 257, 262, 264, 266, 267, 268, 269, 271, 272, 273, 274, 276, 278, 280, 281, 284, 286, 287, 288, 289, 295, 297, 298, 300, 302, 307, 313, 315, 318, 319, 320, 321, 322, 323, 324, 325, 327, 330, 331, 333, 334, 337, 338, 340, 341, 342, 343, 344, 345, 347, 348, 349, 350, 351, 352, 353, 358, 361, 363, 367, 369, 373, 374, 377, 379, 385, 386, 390, 391, 392, 396, 397, 404, 406, 408, 411, 412, 413, 417, 427, 433, 434, 435, 437, 440, 441, 444, 446, 449, 452, 459, 460, 461, 462, 463, 464, 474, 475, 479, 480, 482, 484, 487, 490, 491, 498, 499]\n",
      "The element in the cluster  4\n",
      "the length of the cluster is  1\n",
      "[123]\n",
      "The element in the cluster  5\n",
      "the length of the cluster is  39\n",
      "[11, 16, 53, 63, 64, 65, 114, 116, 118, 129, 141, 155, 166, 180, 186, 200, 216, 223, 226, 260, 270, 294, 305, 359, 362, 380, 400, 410, 415, 418, 422, 423, 448, 458, 468, 481, 486, 488, 495]\n",
      "The element in the cluster  6\n",
      "the length of the cluster is  26\n",
      "[12, 26, 29, 31, 42, 52, 79, 86, 107, 108, 201, 277, 293, 312, 329, 366, 370, 382, 388, 407, 414, 425, 454, 470, 476, 477]\n",
      "The element in the cluster  7\n",
      "the length of the cluster is  1\n",
      "[301]\n",
      "The element in the cluster  8\n",
      "the length of the cluster is  1\n",
      "[136]\n",
      "The element in the cluster  9\n",
      "the length of the cluster is  1\n",
      "[169]\n",
      "The element in the cluster  10\n",
      "the length of the cluster is  1\n",
      "[403]\n",
      "The element in the cluster  11\n",
      "the length of the cluster is  1\n",
      "[49]\n",
      "The element in the cluster  12\n",
      "the length of the cluster is  1\n",
      "[431]\n",
      "The element in the cluster  13\n",
      "the length of the cluster is  1\n",
      "[66]\n",
      "The element in the cluster  14\n",
      "the length of the cluster is  1\n",
      "[197]\n",
      "The element in the cluster  15\n",
      "the length of the cluster is  1\n",
      "[402]\n",
      "The element in the cluster  16\n",
      "the length of the cluster is  1\n",
      "[181]\n",
      "The element in the cluster  17\n",
      "the length of the cluster is  1\n",
      "[87]\n",
      "The element in the cluster  18\n",
      "the length of the cluster is  31\n",
      "[4, 8, 77, 84, 105, 117, 154, 158, 178, 188, 191, 204, 208, 217, 228, 245, 254, 255, 263, 275, 283, 309, 364, 368, 376, 442, 443, 445, 451, 465, 496]\n",
      "The element in the cluster  19\n",
      "the length of the cluster is  1\n",
      "[156]\n"
     ]
    }
   ],
   "source": [
    "for i in range(K):\n",
    "    print \"The element in the cluster \",i\n",
    "    print \"the length of the cluster is \",len(result[i])\n",
    "    print result[i]"
   ]
  },
  {
   "cell_type": "code",
   "execution_count": 6,
   "metadata": {
    "collapsed": true
   },
   "outputs": [],
   "source": [
    "filename='sp500_data_id/sp500_matType.d'\n",
    "f=open(filename,\"r\")\n",
    "sp500_matType=[]\n",
    "for line in f:\n",
    "    l=[]\n",
    "    for element in line:\n",
    "        if element!=' ' and element !='\\n':\n",
    "            l.append(element)\n",
    "    sp500_matType.append(l)\n",
    "f.close()"
   ]
  },
  {
   "cell_type": "code",
   "execution_count": 7,
   "metadata": {
    "collapsed": false
   },
   "outputs": [],
   "source": [
    "measure_similarity={}\n",
    "for i in range(K):\n",
    "    measure_similarity[i]=[]\n",
    "for c in range(K):\n",
    "    cluster=result[c]\n",
    "    for i in cluster:\n",
    "        measure_similarity[c].append(sp500_matType[i])"
   ]
  },
  {
   "cell_type": "code",
   "execution_count": 8,
   "metadata": {
    "collapsed": true
   },
   "outputs": [],
   "source": [
    "from scipy.spatial import distance\n",
    "def calcute_distance(measure_similarity):\n",
    "    d=np.zeros(K)\n",
    "    for c in range(K):\n",
    "        cluster=measure_similarity[c]\n",
    "        d[c]=0\n",
    "        for i in range(len(cluster)):\n",
    "            for j in range(len(cluster)):\n",
    "                d[c]+=distance.correlation(np.array(measure_similarity[c][i]).astype(float),np.array(measure_similarity[c][j]).astype(float))\n",
    "        d[c]=d[c]/float(len(cluster))\n",
    "    return d"
   ]
  },
  {
   "cell_type": "code",
   "execution_count": 9,
   "metadata": {
    "collapsed": false
   },
   "outputs": [],
   "source": [
    "from operator import itemgetter\n",
    "d=calcute_distance(measure_similarity)\n",
    "real_dist=[]\n",
    "for i in range(K):\n",
    "    real_dist.append((i,d[i]))\n",
    "\n",
    "real_dist=sorted(real_dist,key=itemgetter(1))"
   ]
  },
  {
   "cell_type": "code",
   "execution_count": 10,
   "metadata": {
    "collapsed": false
   },
   "outputs": [
    {
     "name": "stdout",
     "output_type": "stream",
     "text": [
      "the distance correalation for each cluster\n",
      "(4, -2.2204460492503131e-16)\n",
      "(7, -2.2204460492503131e-16)\n",
      "(8, -2.2204460492503131e-16)\n",
      "(10, -2.2204460492503131e-16)\n",
      "(12, -2.2204460492503131e-16)\n",
      "(13, -2.2204460492503131e-16)\n",
      "(14, -2.2204460492503131e-16)\n",
      "(15, -2.2204460492503131e-16)\n",
      "(16, -2.2204460492503131e-16)\n",
      "(19, -2.2204460492503131e-16)\n",
      "(2, 0.0)\n",
      "(17, 0.0)\n",
      "(9, 1.1102230246251565e-16)\n",
      "(11, 1.1102230246251565e-16)\n",
      "(1, 9.4356927546348182)\n",
      "(18, 9.880949914791973)\n",
      "(6, 10.705882352941105)\n",
      "(5, 26.438272314074929)\n",
      "(0, 133.5965619124654)\n",
      "(3, 211.00940759186864)\n"
     ]
    }
   ],
   "source": [
    "print \"the distance correalation for each cluster\"\n",
    "for i in range(len(real_dist)):\n",
    "    print real_dist[i]"
   ]
  },
  {
   "cell_type": "code",
   "execution_count": 14,
   "metadata": {
    "collapsed": true
   },
   "outputs": [],
   "source": [
    "def get_matrix(filename):\n",
    "    f=open(filename,\"r\")\n",
    "    data=[]\n",
    "    for line in f:\n",
    "        data.append(line)\n",
    "    f.close()\n",
    "    matrix=[]\n",
    "    for i in range(len(data)):\n",
    "        clone=data[i].split(\" \")\n",
    "        for i in range(len(clone)):\n",
    "            clone[i]=float(clone[i])\n",
    "        matrix.append(clone)\n",
    "    return matrix"
   ]
  },
  {
   "cell_type": "code",
   "execution_count": 15,
   "metadata": {
    "collapsed": true
   },
   "outputs": [],
   "source": [
    "filename='mi_sp500.d'\n",
    "sm=get_matrix(filename)"
   ]
  },
  {
   "cell_type": "code",
   "execution_count": 16,
   "metadata": {
    "collapsed": false
   },
   "outputs": [],
   "source": [
    "index_list=[]\n",
    "N=501\n",
    "for i in range(K):\n",
    "    get_index=real_dist[i][0]\n",
    "    index_list+=result[get_index]\n",
    "P=np.zeros(shape=(N,N))\n",
    "for m in range(N):\n",
    "    P[m][index_list[m]]=1\n",
    "Transpose_P=np.transpose(P)\n",
    "new_sm=[]\n",
    "for i in range(N):\n",
    "    related_index=index_list[i]\n",
    "#    print \"related_index \",related_index\n",
    "    m=sm[related_index]\n",
    "    m=np.asarray(m)\n",
    "#    print m\n",
    "    tmp=np.dot(P,m)\n",
    "#    new_m=np.dot(tmp,P)\n",
    "    new_sm.append(tmp)\n",
    "f=open(\"sp500_kmeans.d\",\"w\")\n",
    "for m in range(501):\n",
    "    for n in range(501):\n",
    "        f.write(str(new_sm[m][n])+\" \")\n",
    "    f.write(\"\\n\")\n",
    "f.close()"
   ]
  },
  {
   "cell_type": "code",
   "execution_count": null,
   "metadata": {
    "collapsed": true
   },
   "outputs": [],
   "source": []
  }
 ],
 "metadata": {
  "anaconda-cloud": {},
  "kernelspec": {
   "display_name": "Python [default]",
   "language": "python",
   "name": "python2"
  },
  "language_info": {
   "codemirror_mode": {
    "name": "ipython",
    "version": 2
   },
   "file_extension": ".py",
   "mimetype": "text/x-python",
   "name": "python",
   "nbconvert_exporter": "python",
   "pygments_lexer": "ipython2",
   "version": "2.7.12"
  }
 },
 "nbformat": 4,
 "nbformat_minor": 1
}
