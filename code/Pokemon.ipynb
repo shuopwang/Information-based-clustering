{
 "cells": [
  {
   "cell_type": "code",
   "execution_count": 1,
   "metadata": {
    "collapsed": true
   },
   "outputs": [],
   "source": [
    "import sys\n",
    "import numpy as np\n",
    "filename=\"Pokemon.csv\"\n",
    "f=open(filename,\"r\")\n",
    "pokemon=[]\n",
    "for line in f:\n",
    "    pokemon.append(line)\n",
    "f.close()"
   ]
  },
  {
   "cell_type": "code",
   "execution_count": 10,
   "metadata": {
    "collapsed": false
   },
   "outputs": [
    {
     "name": "stdout",
     "output_type": "stream",
     "text": [
      "the first line of the pokemon  1,Bulbasaur,Grass,Poison,318,45,49,49,65,65,45,1,False\n",
      "\n",
      "type <type 'str'>\n"
     ]
    }
   ],
   "source": [
    "print \"the first line of the pokemon \",pokemon[1]\n",
    "print \"type\",type(pokemon[0])"
   ]
  },
  {
   "cell_type": "code",
   "execution_count": 14,
   "metadata": {
    "collapsed": false
   },
   "outputs": [
    {
     "name": "stdout",
     "output_type": "stream",
     "text": [
      "Bulbasaur\n"
     ]
    }
   ],
   "source": [
    "pokemon_name=[]\n",
    "pokemon_type=[]\n",
    "pokemon_data=[]"
   ]
  },
  {
   "cell_type": "code",
   "execution_count": 48,
   "metadata": {
    "collapsed": false
   },
   "outputs": [],
   "source": [
    "for i in range(len(pokemon)):\n",
    "    if i>0:\n",
    "        attr=pokemon[i].split(\",\")\n",
    "        pokemon_name.append(attr[1])\n",
    "        if attr[3]=='':\n",
    "            attr[3]='null'\n",
    "        pokemon_type.append(attr[3])\n",
    "        data=attr[5:12]\n",
    "        pokemon_data.append(data)"
   ]
  },
  {
   "cell_type": "code",
   "execution_count": 49,
   "metadata": {
    "collapsed": false
   },
   "outputs": [],
   "source": [
    "\n",
    "pokemon_data=pokemon_data[0:800]\n",
    "pokemon_name=pokemon_name[0:800]\n",
    "pokemon_type=pokemon_type[0:800]\n"
   ]
  },
  {
   "cell_type": "code",
   "execution_count": 50,
   "metadata": {
    "collapsed": false
   },
   "outputs": [],
   "source": [
    "f = open(\"pokemon_data.d\",\"w\")\n",
    "for i in range(len(pokemon_data)):\n",
    "    f.write(str(pokemon_data[i])+\"\\n\")\n",
    "f.close()"
   ]
  },
  {
   "cell_type": "code",
   "execution_count": 51,
   "metadata": {
    "collapsed": false
   },
   "outputs": [],
   "source": [
    "f = open(\"pokemon_name.d\",\"w\")\n",
    "for i in range(len(pokemon_name)):\n",
    "    f.write(str(pokemon_name[i])+\"\\n\")\n",
    "f.close()"
   ]
  },
  {
   "cell_type": "code",
   "execution_count": 52,
   "metadata": {
    "collapsed": true
   },
   "outputs": [],
   "source": [
    "f = open(\"pokemon_type.d\",\"w\")\n",
    "for i in range(len(pokemon_type)):\n",
    "    f.write(str(pokemon_type[i])+\"\\n\")\n",
    "f.close()"
   ]
  },
  {
   "cell_type": "code",
   "execution_count": null,
   "metadata": {
    "collapsed": true
   },
   "outputs": [],
   "source": []
  }
 ],
 "metadata": {
  "anaconda-cloud": {},
  "kernelspec": {
   "display_name": "Python [default]",
   "language": "python",
   "name": "python2"
  },
  "language_info": {
   "codemirror_mode": {
    "name": "ipython",
    "version": 2
   },
   "file_extension": ".py",
   "mimetype": "text/x-python",
   "name": "python",
   "nbconvert_exporter": "python",
   "pygments_lexer": "ipython2",
   "version": "2.7.12"
  }
 },
 "nbformat": 4,
 "nbformat_minor": 1
}
