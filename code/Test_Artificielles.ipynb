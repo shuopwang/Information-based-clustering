{
 "cells": [
  {
   "cell_type": "code",
   "execution_count": 1,
   "metadata": {
    "collapsed": false
   },
   "outputs": [
    {
     "name": "stdout",
     "output_type": "stream",
     "text": [
      "the length of data: 300\n",
      "the type of each data:  <type 'str'>\n",
      "the type of each data: <type 'str'>\n",
      "the length of each data 300\n"
     ]
    }
   ],
   "source": [
    "import sys\n",
    "import numpy as np\n",
    "filename = 'simil_ds1.d'\n",
    "f=open(filename,\"r\")\n",
    "test1=[]\n",
    "nb_data=0\n",
    "for line in f:\n",
    "    test1.append(line)\n",
    "f.close()\n",
    "nb_data=len(test1)\n",
    "print \"the length of data:\",nb_data\n",
    "print \"the type of each data: \",type(test1[0])\n",
    "l=test1[0].split(\" \")\n",
    "print \"the type of each data:\",type(l[0])\n",
    "print \"the length of each data\",len(l)"
   ]
  },
  {
   "cell_type": "code",
   "execution_count": 2,
   "metadata": {
    "collapsed": false
   },
   "outputs": [],
   "source": [
    "matrix_simiarity=[]\n",
    "for i in range(nb_data):\n",
    "    line=test1[i].split(\" \")\n",
    "    matrix_simiarity.append(line)\n"
   ]
  },
  {
   "cell_type": "code",
   "execution_count": 3,
   "metadata": {
    "collapsed": true
   },
   "outputs": [],
   "source": [
    "from scipy import stats\n",
    "def init(N,Nc,sm):\n",
    "    pci=np.zeros(shape=(N,Nc))\n",
    "    for i in range(N):\n",
    "        pci[i,0:Nc]=np.random.random_sample(Nc)\n",
    "        pci[i,0:Nc]=pci[i,0:Nc]/sum(pci[i,0:Nc])\n",
    "    \n",
    "    Pc=np.zeros(Nc)\n",
    "    Pc=pci.sum(axis=0)*(1/float(N))\n",
    "    \n",
    "    pic=np.zeros(shape=(N,Nc))\n",
    "    pic=pci*(1/float(N))/Pc\n",
    "    \n",
    "    sci=np.zeros(shape=(N,Nc))\n",
    "    for c in range(Nc):\n",
    "        for m in range(N):\n",
    "            for n in range(N):\n",
    "                sci[m][c]+=pic[n][c]*float(sm[n][m])\n",
    "    \n",
    "    sc=np.zeros(Nc)\n",
    "    resu_multi=np.multiply(pic,sci)\n",
    "    sc=np.sum(resu_multi,axis=0)\n",
    "    \n",
    "    return pci,Pc,pic,sc,sci"
   ]
  },
  {
   "cell_type": "code",
   "execution_count": 4,
   "metadata": {
    "collapsed": true
   },
   "outputs": [],
   "source": [
    "def update_Pc(pci,Pc):\n",
    "    Pc=pci.sum(axis=0)*(1/float(N))\n",
    "    return Pc"
   ]
  },
  {
   "cell_type": "code",
   "execution_count": 5,
   "metadata": {
    "collapsed": true
   },
   "outputs": [],
   "source": [
    "def update_pic(pci,Pc,pic):\n",
    "    pic=pci*(1/float(N))/Pc\n",
    "    return pic"
   ]
  },
  {
   "cell_type": "code",
   "execution_count": 6,
   "metadata": {
    "collapsed": true
   },
   "outputs": [],
   "source": [
    "def update_sci(sm,pic,sci):\n",
    "    for c in range(Nc):\n",
    "        for i in range(N):\n",
    "            sci[c][i]=0\n",
    "            for k in range(N):\n",
    "                sci[i][c]+=pic[k][c]*float(sm[k][i])\n",
    "    return sci"
   ]
  },
  {
   "cell_type": "code",
   "execution_count": 7,
   "metadata": {
    "collapsed": true
   },
   "outputs": [],
   "source": [
    "def update_sc(sm,sc,pic):\n",
    "    resu_multi=np.multiply(pic,sci)\n",
    "    sc=np.sum(resu_multi,axis=0)\n",
    "    return sc"
   ]
  },
  {
   "cell_type": "code",
   "execution_count": 8,
   "metadata": {
    "collapsed": false
   },
   "outputs": [],
   "source": [
    "def new_pci(pci,Pc,sci,sc,i):\n",
    "    for c in range(Nc):\n",
    "            sub_cal=float(div_T)*(2*sci[i][c]-sc[c])\n",
    "            pci[i][c]=Pc[c]*math.exp(sub_cal)\n",
    "    return pci"
   ]
  },
  {
   "cell_type": "code",
   "execution_count": 9,
   "metadata": {
    "collapsed": true
   },
   "outputs": [],
   "source": [
    "def update_pci(pci,i):\n",
    "\n",
    "    sum_value=float(sum(pci[i,0:Nc]))\n",
    "    for c in range(Nc):\n",
    "        pci[i][c]=pci[i][c]/sum_value\n",
    "    return pci"
   ]
  },
  {
   "cell_type": "code",
   "execution_count": 10,
   "metadata": {
    "collapsed": true
   },
   "outputs": [],
   "source": [
    "def juge_convege(pci,pci_last,epsilon):\n",
    "    flag=True\n",
    "    for c in range(Nc):\n",
    "        for i in range(N):\n",
    "            if (pci[i][c]-pci_last[i][c]>epsilon):\n",
    "                flag=False\n",
    "    return flag"
   ]
  },
  {
   "cell_type": "markdown",
   "metadata": {},
   "source": [
    "np.argmax(ndarray,axis=0) to get the index of the max element"
   ]
  },
  {
   "cell_type": "code",
   "execution_count": 11,
   "metadata": {
    "collapsed": false
   },
   "outputs": [],
   "source": [
    "import math\n",
    "def algo(sm,N,Nc,epsilon,div_T):\n",
    "    pci,Pc,pic,sc,sci=init(N,Nc,sm)\n",
    "    pci_last=pci\n",
    "    convege=False\n",
    "    m=0\n",
    "    while not convege:\n",
    "        for i in range(N):\n",
    "            pci=new_pci(pci,Pc,sci,sc,i)\n",
    "            pci=update_pci(pci,i)\n",
    "        flag=juge_convege(pci,pci_last,epsilon)\n",
    "        m+=1\n",
    "        if flag:\n",
    "            convege=True\n",
    "        else:\n",
    "            Pc=update_Pc(pci,Pc)\n",
    "            pic=update_pic(pci,Pc,pic)\n",
    "            sci=update_sci(sm,pic,sci)\n",
    "            sc=update_sc(sm,sc,pic)\n",
    "            pci_last=pci\n",
    "    counts=np.argmax(pci,axis=1)\n",
    "    cluster={}\n",
    "    for i in range(Nc):\n",
    "        cluster[i]=[]\n",
    "    transpose_pci=np.transpose(pci)\n",
    "    k=np.arange(Nc)\n",
    "    labels=[]\n",
    "\n",
    "#    for i in range(N):\n",
    "#        proba=transpose_pci[i]\n",
    "#        label  = np.random.choice(k,p=proba)\n",
    "#        labels.append(label)\n",
    "    index=0\n",
    "    result=[]\n",
    "    for i in range(Nc):\n",
    "        locals()['l'+str(i)]=[]\n",
    "    for element in counts:\n",
    "        for i in range(Nc):\n",
    "            if (element==i):\n",
    "                locals()['l'+str(i)].append(index)\n",
    "                break\n",
    "        index+=1\n",
    "    for i in range(Nc):\n",
    "        result.append(locals()['l'+str(i)])\n",
    "    result=np.asarray(result)\n",
    "    return result"
   ]
  },
  {
   "cell_type": "code",
   "execution_count": 16,
   "metadata": {
    "collapsed": false
   },
   "outputs": [],
   "source": [
    "N=300\n",
    "Nc=3\n",
    "epsilon=0.01\n",
    "div_T=0.1\n",
    "result=algo(matrix_simiarity,N,Nc,epsilon,div_T)\n"
   ]
  },
  {
   "cell_type": "code",
   "execution_count": 17,
   "metadata": {
    "collapsed": false
   },
   "outputs": [
    {
     "name": "stdout",
     "output_type": "stream",
     "text": [
      "the class  0\n",
      "the size of this cluster is  66\n",
      "[1, 4, 13, 26, 27, 31, 40, 43, 46, 49, 52, 54, 58, 66, 68, 69, 71, 74, 83, 85, 91, 100, 101, 106, 108, 114, 115, 117, 127, 135, 137, 143, 171, 172, 174, 176, 177, 181, 182, 183, 185, 193, 195, 197, 206, 216, 225, 228, 229, 231, 233, 241, 242, 249, 256, 259, 262, 266, 267, 272, 275, 280, 282, 294, 296, 298]\n",
      "the class  1\n",
      "the size of this cluster is  0\n",
      "[]\n",
      "the class  2\n",
      "the size of this cluster is  234\n",
      "[0, 2, 3, 5, 6, 7, 8, 9, 10, 11, 12, 14, 15, 16, 17, 18, 19, 20, 21, 22, 23, 24, 25, 28, 29, 30, 32, 33, 34, 35, 36, 37, 38, 39, 41, 42, 44, 45, 47, 48, 50, 51, 53, 55, 56, 57, 59, 60, 61, 62, 63, 64, 65, 67, 70, 72, 73, 75, 76, 77, 78, 79, 80, 81, 82, 84, 86, 87, 88, 89, 90, 92, 93, 94, 95, 96, 97, 98, 99, 102, 103, 104, 105, 107, 109, 110, 111, 112, 113, 116, 118, 119, 120, 121, 122, 123, 124, 125, 126, 128, 129, 130, 131, 132, 133, 134, 136, 138, 139, 140, 141, 142, 144, 145, 146, 147, 148, 149, 150, 151, 152, 153, 154, 155, 156, 157, 158, 159, 160, 161, 162, 163, 164, 165, 166, 167, 168, 169, 170, 173, 175, 178, 179, 180, 184, 186, 187, 188, 189, 190, 191, 192, 194, 196, 198, 199, 200, 201, 202, 203, 204, 205, 207, 208, 209, 210, 211, 212, 213, 214, 215, 217, 218, 219, 220, 221, 222, 223, 224, 226, 227, 230, 232, 234, 235, 236, 237, 238, 239, 240, 243, 244, 245, 246, 247, 248, 250, 251, 252, 253, 254, 255, 257, 258, 260, 261, 263, 264, 265, 268, 269, 270, 271, 273, 274, 276, 277, 278, 279, 281, 283, 284, 285, 286, 287, 288, 289, 290, 291, 292, 293, 295, 297, 299]\n"
     ]
    }
   ],
   "source": [
    "for i in range(Nc):\n",
    "    print \"the class \",i\n",
    "    print \"the size of this cluster is \",len(result[i])\n",
    "    print result[i]"
   ]
  },
  {
   "cell_type": "code",
   "execution_count": 21,
   "metadata": {
    "collapsed": false
   },
   "outputs": [
    {
     "name": "stdout",
     "output_type": "stream",
     "text": [
      "<type 'str'>\n",
      "300\n"
     ]
    }
   ],
   "source": [
    "filename = 'scatter_ds1.d'\n",
    "f=open(filename,\"r\")\n",
    "valid=[]\n",
    "for line in f:\n",
    "    valid.append(line)\n",
    "f.close()\n",
    "real=[]\n",
    "l0=[]\n",
    "l1=[]\n",
    "l2=[]\n",
    "for i in range(len(valid)):\n",
    "    line=valid[i].split(\" \")\n",
    "    real.append(line[2])\n",
    "print type(real[0])\n",
    "print len(real)"
   ]
  },
  {
   "cell_type": "code",
   "execution_count": 22,
   "metadata": {
    "collapsed": false
   },
   "outputs": [
    {
     "name": "stdout",
     "output_type": "stream",
     "text": [
      "for the class  0\n",
      "98\n",
      "[2, 5, 8, 9, 10, 15, 18, 20, 22, 32, 34, 37, 38, 42, 47, 53, 55, 57, 60, 62, 64, 67, 72, 73, 75, 76, 86, 87, 88, 90, 93, 96, 104, 111, 113, 116, 119, 122, 123, 130, 131, 132, 138, 142, 144, 145, 146, 148, 149, 150, 155, 156, 157, 164, 165, 166, 169, 173, 178, 186, 188, 191, 194, 199, 200, 202, 203, 204, 205, 207, 209, 211, 212, 215, 217, 220, 221, 226, 230, 235, 236, 239, 240, 243, 250, 251, 253, 255, 261, 265, 268, 276, 278, 285, 286, 292, 295, 299]\n",
      "for the class  1\n",
      "129\n",
      "[1, 4, 7, 11, 13, 14, 16, 17, 19, 21, 23, 24, 26, 27, 31, 35, 40, 41, 43, 44, 46, 48, 49, 50, 51, 52, 54, 58, 66, 68, 69, 71, 74, 77, 81, 83, 84, 85, 91, 97, 99, 100, 101, 102, 103, 105, 106, 107, 108, 110, 114, 115, 117, 124, 126, 127, 128, 134, 135, 136, 137, 139, 140, 143, 151, 158, 163, 171, 172, 174, 175, 176, 177, 180, 181, 182, 183, 185, 190, 193, 195, 196, 197, 201, 206, 210, 213, 214, 216, 222, 224, 225, 227, 228, 229, 231, 232, 233, 234, 237, 241, 242, 248, 249, 252, 254, 256, 259, 260, 262, 263, 264, 266, 267, 269, 270, 271, 272, 275, 279, 280, 281, 282, 283, 287, 293, 294, 296, 298]\n",
      "for the class  2\n",
      "73\n",
      "[0, 3, 6, 12, 25, 28, 29, 30, 33, 36, 39, 45, 56, 59, 61, 63, 65, 70, 78, 79, 80, 82, 89, 92, 94, 95, 98, 109, 112, 118, 120, 121, 125, 129, 133, 141, 147, 152, 153, 154, 159, 160, 161, 162, 167, 168, 170, 179, 184, 187, 189, 192, 198, 208, 218, 219, 223, 238, 244, 245, 246, 247, 257, 258, 273, 274, 277, 284, 288, 289, 290, 291, 297]\n"
     ]
    }
   ],
   "source": [
    "index=0\n",
    "for element in real:\n",
    "    if int(element)==0:\n",
    "        l0.append(index)\n",
    "    if int(element)==1:\n",
    "        l1.append(index)\n",
    "    if int(element)==2:\n",
    "        l2.append(index)\n",
    "    index+=1\n",
    "valid=[]\n",
    "valid.append(l0)\n",
    "valid.append(l1)\n",
    "valid.append(l2)\n",
    "for i in range(3):\n",
    "    print \"for the class \",i\n",
    "    print len(valid[i])\n",
    "    print valid[i]"
   ]
  },
  {
   "cell_type": "markdown",
   "metadata": {},
   "source": [
    "Also, by using the gnuplot ’simil_ds1.d’ matrix with image\n",
    "We could see that the image divide 3 part. \n",
    "For example, matrix [i,j]=yellow means the similarity between dataj and i is high(the distance euclidienne is low)\n",
    "[i,j]=red the distance euclidienne is middle\n",
    "[i,j]=blue the distance euclidienne is high"
   ]
  },
  {
   "cell_type": "code",
   "execution_count": 23,
   "metadata": {
    "collapsed": false
   },
   "outputs": [
    {
     "name": "stdout",
     "output_type": "stream",
     "text": [
      "the length of data matrix is : 300\n",
      "the type of each data: <type 'str'>\n",
      "the length of each data line: 300\n"
     ]
    }
   ],
   "source": [
    "filename='simil_ds2.d'\n",
    "f=open(filename,\"r\")\n",
    "data2=[]\n",
    "for line in f:\n",
    "    data2.append(line)\n",
    "f.close()\n",
    "print \"the length of data matrix is :\",len(data2)\n",
    "line0=data2[0].split(\" \")\n",
    "print \"the type of each data:\",type(line0[0])\n",
    "print \"the length of each data line:\",len(line0)"
   ]
  },
  {
   "cell_type": "code",
   "execution_count": 24,
   "metadata": {
    "collapsed": true
   },
   "outputs": [],
   "source": [
    "matrix_simiarity_2=[]\n",
    "for i in range(len(data2)):\n",
    "    line=data2[i].split(\" \")\n",
    "    matrix_simiarity_2.append(line)"
   ]
  },
  {
   "cell_type": "code",
   "execution_count": 25,
   "metadata": {
    "collapsed": false
   },
   "outputs": [],
   "source": [
    "N=300\n",
    "Nc=35\n",
    "epsilon=0.001\n",
    "div_T=25\n",
    "result=algo(matrix_simiarity_2,N,Nc,epsilon,div_T)"
   ]
  },
  {
   "cell_type": "code",
   "execution_count": 26,
   "metadata": {
    "collapsed": false
   },
   "outputs": [
    {
     "name": "stdout",
     "output_type": "stream",
     "text": [
      "the class  0\n",
      "the size of this cluster is  10\n",
      "[1, 10, 16, 20, 90, 206, 228, 237, 249, 272]\n",
      "the class  1\n",
      "the size of this cluster is  0\n",
      "[]\n",
      "the class  2\n",
      "the size of this cluster is  0\n",
      "[]\n",
      "the class  3\n",
      "the size of this cluster is  0\n",
      "[]\n",
      "the class  4\n",
      "the size of this cluster is  0\n",
      "[]\n",
      "the class  5\n",
      "the size of this cluster is  0\n",
      "[]\n",
      "the class  6\n",
      "the size of this cluster is  45\n",
      "[18, 19, 24, 33, 35, 59, 68, 79, 83, 89, 94, 97, 99, 101, 112, 117, 119, 122, 125, 128, 129, 135, 140, 143, 151, 153, 157, 158, 169, 182, 193, 224, 227, 229, 231, 233, 243, 244, 261, 263, 270, 277, 290, 296, 299]\n",
      "the class  7\n",
      "the size of this cluster is  0\n",
      "[]\n",
      "the class  8\n",
      "the size of this cluster is  0\n",
      "[]\n",
      "the class  9\n",
      "the size of this cluster is  43\n",
      "[0, 3, 4, 13, 27, 29, 32, 39, 55, 60, 61, 67, 75, 80, 92, 93, 104, 105, 113, 124, 130, 145, 147, 148, 155, 170, 178, 187, 203, 207, 208, 216, 222, 230, 241, 245, 251, 252, 276, 285, 287, 292, 298]\n",
      "the class  10\n",
      "the size of this cluster is  0\n",
      "[]\n",
      "the class  11\n",
      "the size of this cluster is  0\n",
      "[]\n",
      "the class  12\n",
      "the size of this cluster is  0\n",
      "[]\n",
      "the class  13\n",
      "the size of this cluster is  0\n",
      "[]\n",
      "the class  14\n",
      "the size of this cluster is  0\n",
      "[]\n",
      "the class  15\n",
      "the size of this cluster is  1\n",
      "[30]\n",
      "the class  16\n",
      "the size of this cluster is  0\n",
      "[]\n",
      "the class  17\n",
      "the size of this cluster is  0\n",
      "[]\n",
      "the class  18\n",
      "the size of this cluster is  0\n",
      "[]\n",
      "the class  19\n",
      "the size of this cluster is  0\n",
      "[]\n",
      "the class  20\n",
      "the size of this cluster is  0\n",
      "[]\n",
      "the class  21\n",
      "the size of this cluster is  0\n",
      "[]\n",
      "the class  22\n",
      "the size of this cluster is  100\n",
      "[2, 6, 7, 8, 11, 14, 21, 22, 23, 25, 26, 31, 36, 37, 42, 43, 45, 46, 51, 57, 65, 71, 72, 73, 77, 78, 81, 84, 87, 91, 96, 98, 100, 102, 106, 107, 108, 110, 114, 115, 118, 121, 123, 126, 127, 131, 132, 133, 139, 142, 144, 146, 150, 152, 154, 156, 159, 160, 162, 165, 168, 176, 177, 180, 181, 183, 184, 186, 191, 197, 198, 202, 209, 210, 211, 213, 214, 218, 219, 223, 234, 235, 236, 239, 242, 248, 254, 256, 257, 258, 262, 264, 265, 266, 268, 269, 274, 275, 278, 282]\n",
      "the class  23\n",
      "the size of this cluster is  0\n",
      "[]\n",
      "the class  24\n",
      "the size of this cluster is  1\n",
      "[201]\n",
      "the class  25\n",
      "the size of this cluster is  0\n",
      "[]\n",
      "the class  26\n",
      "the size of this cluster is  0\n",
      "[]\n",
      "the class  27\n",
      "the size of this cluster is  0\n",
      "[]\n",
      "the class  28\n",
      "the size of this cluster is  0\n",
      "[]\n",
      "the class  29\n",
      "the size of this cluster is  0\n",
      "[]\n",
      "the class  30\n",
      "the size of this cluster is  0\n",
      "[]\n",
      "the class  31\n",
      "the size of this cluster is  88\n",
      "[5, 9, 12, 15, 17, 28, 34, 38, 40, 41, 44, 47, 48, 49, 50, 53, 54, 56, 62, 63, 69, 70, 74, 76, 82, 85, 86, 88, 95, 103, 109, 116, 120, 134, 136, 141, 149, 161, 163, 164, 166, 167, 171, 172, 173, 174, 175, 179, 185, 188, 189, 190, 192, 194, 195, 196, 199, 200, 204, 205, 212, 215, 217, 220, 221, 226, 232, 238, 240, 246, 250, 253, 259, 260, 267, 271, 273, 279, 280, 281, 284, 286, 288, 291, 293, 294, 295, 297]\n",
      "the class  32\n",
      "the size of this cluster is  12\n",
      "[52, 58, 64, 66, 111, 137, 138, 225, 247, 255, 283, 289]\n",
      "the class  33\n",
      "the size of this cluster is  0\n",
      "[]\n",
      "the class  34\n",
      "the size of this cluster is  0\n",
      "[]\n"
     ]
    }
   ],
   "source": [
    "for i in range(Nc):\n",
    "    print \"the class \",i\n",
    "    print \"the size of this cluster is \",len(result[i])\n",
    "    print result[i]"
   ]
  },
  {
   "cell_type": "markdown",
   "metadata": {},
   "source": [
    "For the second data\n",
    "after,we agrment the size of cluster, it still has 2 clusters"
   ]
  }
 ],
 "metadata": {
  "anaconda-cloud": {},
  "kernelspec": {
   "display_name": "Python [default]",
   "language": "python",
   "name": "python2"
  },
  "language_info": {
   "codemirror_mode": {
    "name": "ipython",
    "version": 2
   },
   "file_extension": ".py",
   "mimetype": "text/x-python",
   "name": "python",
   "nbconvert_exporter": "python",
   "pygments_lexer": "ipython2",
   "version": "2.7.12"
  }
 },
 "nbformat": 4,
 "nbformat_minor": 1
}
