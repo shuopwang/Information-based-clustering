{
 "cells": [
  {
   "cell_type": "code",
   "execution_count": 1,
   "metadata": {
    "collapsed": true
   },
   "outputs": [],
   "source": [
    "import sys\n",
    "import numpy as np\n",
    "filename=\"movie_data_id/movie_data.d\"\n",
    "f=open(filename,\"r\")\n",
    "movie_data=[]\n",
    "for line in f:\n",
    "    element=line.split(\" \")\n",
    "    for i in range(len(element)):\n",
    "        element[i]=float(element[i])\n",
    "    movie_data.append(element)\n",
    "f.close()"
   ]
  },
  {
   "cell_type": "code",
   "execution_count": 4,
   "metadata": {
    "collapsed": false
   },
   "outputs": [
    {
     "name": "stdout",
     "output_type": "stream",
     "text": [
      "Start using the sklearn Kmeans....\n",
      "K-means has done...\n"
     ]
    }
   ],
   "source": [
    "from sklearn.cluster import KMeans \n",
    "K=20\n",
    "print \"Start using the sklearn Kmeans....\"\n",
    "result = KMeans(n_clusters=K).fit(movie_data)\n",
    "print \"K-means has done...\""
   ]
  },
  {
   "cell_type": "code",
   "execution_count": 5,
   "metadata": {
    "collapsed": false
   },
   "outputs": [],
   "source": [
    "labels=result.predict(movie_data)"
   ]
  },
  {
   "cell_type": "code",
   "execution_count": 6,
   "metadata": {
    "collapsed": true
   },
   "outputs": [],
   "source": [
    "result={}\n",
    "for i in range(K):\n",
    "    result[i]=[]\n",
    "index=0\n",
    "for i in range(len(labels)):\n",
    "    cluster=labels[i]\n",
    "    result[cluster].append(index)\n",
    "    index+=1"
   ]
  },
  {
   "cell_type": "code",
   "execution_count": 7,
   "metadata": {
    "collapsed": false
   },
   "outputs": [
    {
     "name": "stdout",
     "output_type": "stream",
     "text": [
      "The element in the cluster  0\n",
      "the length of the cluster is  4\n",
      "[119, 128, 131, 134]\n",
      "The element in the cluster  1\n",
      "the length of the cluster is  8\n",
      "[0, 1, 2, 3, 4, 6, 7, 11]\n",
      "The element in the cluster  2\n",
      "the length of the cluster is  20\n",
      "[53, 55, 56, 58, 64, 65, 75, 76, 82, 90, 97, 100, 102, 106, 115, 117, 122, 124, 129, 148]\n",
      "The element in the cluster  3\n",
      "the length of the cluster is  21\n",
      "[25, 28, 37, 41, 49, 60, 61, 63, 67, 68, 69, 71, 77, 78, 81, 85, 87, 89, 96, 98, 113]\n",
      "The element in the cluster  4\n",
      "the length of the cluster is  10\n",
      "[8, 10, 23, 24, 27, 31, 34, 38, 40, 42]\n",
      "The element in the cluster  5\n",
      "the length of the cluster is  1\n",
      "[48]\n",
      "The element in the cluster  6\n",
      "the length of the cluster is  117\n",
      "[92, 103, 105, 111, 114, 116, 126, 133, 137, 138, 140, 149, 150, 151, 152, 156, 157, 164, 174, 179, 180, 182, 190, 192, 193, 202, 203, 204, 211, 213, 216, 217, 220, 222, 224, 227, 230, 231, 232, 239, 244, 249, 251, 257, 258, 259, 261, 264, 267, 269, 272, 278, 279, 283, 285, 290, 293, 295, 303, 304, 309, 310, 312, 313, 314, 316, 317, 321, 322, 328, 330, 333, 334, 341, 342, 344, 345, 351, 353, 354, 357, 362, 370, 375, 376, 378, 381, 383, 395, 403, 404, 420, 424, 426, 429, 436, 437, 440, 446, 454, 457, 458, 459, 460, 461, 464, 467, 473, 476, 479, 481, 483, 490, 492, 495, 496, 497]\n",
      "The element in the cluster  7\n",
      "the length of the cluster is  2\n",
      "[5, 13]\n",
      "The element in the cluster  8\n",
      "the length of the cluster is  8\n",
      "[45, 50, 62, 66, 70, 74, 83, 99]\n",
      "The element in the cluster  9\n",
      "the length of the cluster is  10\n",
      "[32, 33, 35, 36, 39, 43, 46, 51, 52, 57]\n",
      "The element in the cluster  10\n",
      "the length of the cluster is  2\n",
      "[9, 15]\n",
      "The element in the cluster  11\n",
      "the length of the cluster is  45\n",
      "[59, 72, 73, 79, 80, 84, 86, 88, 91, 93, 94, 95, 101, 104, 107, 108, 109, 110, 112, 118, 120, 121, 123, 125, 127, 130, 132, 135, 136, 139, 141, 143, 144, 145, 147, 153, 154, 155, 158, 160, 170, 171, 172, 175, 178]\n",
      "The element in the cluster  12\n",
      "the length of the cluster is  150\n",
      "[142, 146, 159, 161, 162, 163, 165, 166, 167, 168, 169, 173, 176, 181, 183, 184, 185, 186, 187, 189, 191, 194, 195, 196, 197, 198, 199, 200, 206, 208, 209, 210, 212, 214, 215, 218, 221, 223, 225, 226, 228, 229, 233, 234, 235, 236, 237, 240, 241, 242, 245, 246, 247, 248, 250, 253, 255, 256, 260, 263, 265, 266, 270, 271, 273, 274, 275, 276, 277, 282, 284, 286, 287, 288, 291, 294, 297, 302, 305, 306, 308, 311, 315, 319, 320, 324, 325, 326, 329, 331, 332, 335, 338, 339, 340, 348, 349, 350, 356, 358, 359, 360, 361, 364, 368, 369, 373, 377, 379, 380, 384, 385, 387, 389, 390, 394, 397, 398, 400, 402, 405, 409, 410, 411, 412, 414, 417, 419, 422, 423, 425, 427, 430, 443, 444, 445, 447, 451, 455, 462, 463, 466, 468, 470, 471, 477, 480, 486, 489, 498]\n",
      "The element in the cluster  13\n",
      "the length of the cluster is  1\n",
      "[20]\n",
      "The element in the cluster  14\n",
      "the length of the cluster is  4\n",
      "[17, 21, 22, 30]\n",
      "The element in the cluster  15\n",
      "the length of the cluster is  87\n",
      "[177, 188, 201, 205, 207, 219, 238, 243, 252, 254, 262, 268, 280, 281, 289, 292, 296, 298, 299, 300, 301, 307, 318, 323, 327, 336, 337, 343, 346, 347, 352, 355, 363, 365, 366, 367, 371, 372, 374, 382, 386, 388, 391, 392, 393, 396, 399, 401, 406, 407, 408, 413, 415, 416, 418, 421, 428, 431, 432, 433, 434, 435, 438, 439, 441, 442, 448, 449, 450, 452, 453, 456, 465, 469, 472, 474, 475, 478, 482, 484, 485, 487, 488, 491, 493, 494, 499]\n",
      "The element in the cluster  16\n",
      "the length of the cluster is  3\n",
      "[18, 44, 54]\n",
      "The element in the cluster  17\n",
      "the length of the cluster is  1\n",
      "[47]\n",
      "The element in the cluster  18\n",
      "the length of the cluster is  2\n",
      "[16, 19]\n",
      "The element in the cluster  19\n",
      "the length of the cluster is  4\n",
      "[12, 14, 26, 29]\n"
     ]
    }
   ],
   "source": [
    "for i in range(K):\n",
    "    print \"The element in the cluster \",i\n",
    "    print \"the length of the cluster is \",len(result[i])\n",
    "    print result[i]"
   ]
  },
  {
   "cell_type": "code",
   "execution_count": 8,
   "metadata": {
    "collapsed": true
   },
   "outputs": [],
   "source": [
    "filename='movie_data_id/movie_labels.d'\n",
    "f=open(filename,\"r\")\n",
    "movie_labels=[]\n",
    "for line in f:\n",
    "    l=[]\n",
    "    for element in line:\n",
    "        if element!=' ' and element !='\\n':\n",
    "            l.append(element)\n",
    "    movie_labels.append(l)\n",
    "f.close()"
   ]
  },
  {
   "cell_type": "code",
   "execution_count": 10,
   "metadata": {
    "collapsed": false
   },
   "outputs": [],
   "source": [
    "measure_similarity={}\n",
    "for i in range(K):\n",
    "    measure_similarity[i]=[]\n",
    "for c in range(K):\n",
    "    cluster=result[c]\n",
    "    for i in cluster:\n",
    "        measure_similarity[c].append(movie_labels[i])"
   ]
  },
  {
   "cell_type": "code",
   "execution_count": 11,
   "metadata": {
    "collapsed": true
   },
   "outputs": [],
   "source": [
    "from scipy.spatial import distance\n",
    "def calcute_distance(measure_similarity):\n",
    "    d=np.zeros(K)\n",
    "    for c in range(K):\n",
    "        cluster=measure_similarity[c]\n",
    "        d[c]=0\n",
    "        for i in range(len(cluster)):\n",
    "            for j in range(len(cluster)):\n",
    "                d[c]+=distance.correlation(np.array(measure_similarity[c][i]).astype(float),np.array(measure_similarity[c][j]).astype(float))\n",
    "        d[c]=d[c]/float(len(cluster))\n",
    "    return d"
   ]
  },
  {
   "cell_type": "code",
   "execution_count": 12,
   "metadata": {
    "collapsed": false
   },
   "outputs": [
    {
     "name": "stderr",
     "output_type": "stream",
     "text": [
      "//anaconda/lib/python2.7/site-packages/scipy/spatial/distance.py:364: RuntimeWarning: invalid value encountered in double_scalars\n",
      "  dist = 1.0 - np.dot(um, vm) / (norm(um) * norm(vm))\n"
     ]
    }
   ],
   "source": [
    "from operator import itemgetter\n",
    "d=calcute_distance(measure_similarity)\n",
    "real_dist=[]\n",
    "for i in range(K):\n",
    "    real_dist.append((i,d[i]))\n",
    "\n",
    "real_dist=sorted(real_dist,key=itemgetter(1))"
   ]
  },
  {
   "cell_type": "code",
   "execution_count": 13,
   "metadata": {
    "collapsed": false
   },
   "outputs": [
    {
     "name": "stdout",
     "output_type": "stream",
     "text": [
      "the distance correalation for each cluster\n",
      "(10, -4.4408920985006262e-16)\n",
      "(17, -2.2204460492503131e-16)\n",
      "(5, 0.0)\n",
      "(13, 0.0)\n",
      "(7, 0.62499999999999978)\n",
      "(18, 1.1666666666666665)\n",
      "(16, 1.5555555555555556)\n",
      "(19, 1.9513888888888884)\n",
      "(0, 2.9503066303518852)\n",
      "(14, 3.4166666666666661)\n",
      "(8, 5.706425872137407)\n",
      "(1, 6.0)\n",
      "(4, 7.1694444444444496)\n",
      "(9, 8.4160329508190728)\n",
      "(2, 14.04999241980428)\n",
      "(3, 17.470052574574844)\n",
      "(6, nan)\n",
      "(11, 38.849084242731251)\n",
      "(12, nan)\n",
      "(15, 78.158654038015044)\n"
     ]
    }
   ],
   "source": [
    "print \"the distance correalation for each cluster\"\n",
    "for i in range(len(real_dist)):\n",
    "    print real_dist[i]"
   ]
  },
  {
   "cell_type": "code",
   "execution_count": 15,
   "metadata": {
    "collapsed": true
   },
   "outputs": [],
   "source": [
    "def get_matrix(filename):\n",
    "    f=open(filename,\"r\")\n",
    "    data=[]\n",
    "    for line in f:\n",
    "        data.append(line)\n",
    "    f.close()\n",
    "    matrix=[]\n",
    "    for i in range(len(data)):\n",
    "        clone=data[i].split(\" \")\n",
    "        for i in range(len(clone)):\n",
    "            clone[i]=float(clone[i])\n",
    "        matrix.append(clone)\n",
    "    return matrix"
   ]
  },
  {
   "cell_type": "code",
   "execution_count": 16,
   "metadata": {
    "collapsed": false
   },
   "outputs": [],
   "source": [
    "filename='mi_movie.d'\n",
    "sm=get_matrix(filename)"
   ]
  },
  {
   "cell_type": "code",
   "execution_count": 18,
   "metadata": {
    "collapsed": false
   },
   "outputs": [],
   "source": [
    "index_list=[]\n",
    "N=500\n",
    "for i in range(K):\n",
    "    get_index=real_dist[i][0]\n",
    "    index_list+=result[get_index]\n",
    "P=np.zeros(shape=(N,N))\n",
    "for m in range(N):\n",
    "    P[m][index_list[m]]=1\n",
    "Transpose_P=np.transpose(P)\n",
    "new_sm=[]\n",
    "for i in range(N):\n",
    "    related_index=index_list[i]\n",
    "#    print \"related_index \",related_index\n",
    "    m=sm[related_index]\n",
    "    m=np.asarray(m)\n",
    "#    print m\n",
    "    tmp=np.dot(P,m)\n",
    "#    new_m=np.dot(tmp,P)\n",
    "    new_sm.append(tmp)\n",
    "f=open(\"movie_k-means.d\",\"w\")\n",
    "for m in range(500):\n",
    "    for n in range(500):\n",
    "        f.write(str(new_sm[m][n])+\" \")\n",
    "    f.write(\"\\n\")\n",
    "f.close()"
   ]
  },
  {
   "cell_type": "code",
   "execution_count": null,
   "metadata": {
    "collapsed": true
   },
   "outputs": [],
   "source": []
  }
 ],
 "metadata": {
  "anaconda-cloud": {},
  "kernelspec": {
   "display_name": "Python [default]",
   "language": "python",
   "name": "python2"
  },
  "language_info": {
   "codemirror_mode": {
    "name": "ipython",
    "version": 2
   },
   "file_extension": ".py",
   "mimetype": "text/x-python",
   "name": "python",
   "nbconvert_exporter": "python",
   "pygments_lexer": "ipython2",
   "version": "2.7.12"
  }
 },
 "nbformat": 4,
 "nbformat_minor": 1
}
